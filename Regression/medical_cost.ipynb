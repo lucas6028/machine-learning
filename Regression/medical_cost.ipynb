{
  "nbformat": 4,
  "nbformat_minor": 0,
  "metadata": {
    "colab": {
      "provenance": [],
      "authorship_tag": "ABX9TyMGlJQatuPBl/9AGkri3iQ7",
      "include_colab_link": true
    },
    "kernelspec": {
      "name": "python3",
      "display_name": "Python 3"
    },
    "language_info": {
      "name": "python"
    }
  },
  "cells": [
    {
      "cell_type": "markdown",
      "metadata": {
        "id": "view-in-github",
        "colab_type": "text"
      },
      "source": [
        "<a href=\"https://colab.research.google.com/github/lucas6028/machine_learning/blob/main/Regression/medical_cost.ipynb\" target=\"_parent\"><img src=\"https://colab.research.google.com/assets/colab-badge.svg\" alt=\"Open In Colab\"/></a>"
      ]
    },
    {
      "cell_type": "markdown",
      "source": [
        "## Import packages"
      ],
      "metadata": {
        "id": "wOeQlZob7TLS"
      }
    },
    {
      "cell_type": "code",
      "source": [
        "import kagglehub\n",
        "import torch\n",
        "import torch.nn as nn\n",
        "from torch.utils.data import Dataset, DataLoader\n",
        "\n",
        "import numpy as np\n",
        "import pandas as pd\n",
        "import csv\n",
        "import os\n",
        "import matplotlib.pyplot as plt\n",
        "from matplotlib.pyplot import figure\n",
        "from sklearn.model_selection import train_test_split\n",
        "from sklearn.model_selection import KFold\n",
        "from sklearn.preprocessing import OneHotEncoder\n",
        "\n",
        "myseed = 198561  # set a random seed for reproducibility\n",
        "torch.backends.cudnn.deterministic = True\n",
        "torch.backends.cudnn.benchmark = False\n",
        "np.random.seed(myseed)\n",
        "torch.manual_seed(myseed)"
      ],
      "metadata": {
        "colab": {
          "base_uri": "https://localhost:8080/"
        },
        "id": "Pomvfn-J7Whc",
        "outputId": "b61e256a-ed81-4a77-c87f-97ac81da2bc3"
      },
      "execution_count": 105,
      "outputs": [
        {
          "output_type": "execute_result",
          "data": {
            "text/plain": [
              "<torch._C.Generator at 0x7e797571e1b0>"
            ]
          },
          "metadata": {},
          "execution_count": 105
        }
      ]
    },
    {
      "cell_type": "markdown",
      "source": [
        "## Download Data"
      ],
      "metadata": {
        "id": "dRJf9qQM7NaS"
      }
    },
    {
      "cell_type": "code",
      "source": [
        "# Download latest version\n",
        "path = kagglehub.dataset_download(\"mirichoi0218/insurance\")\n",
        "\n",
        "print(\"Path to dataset files:\", path)\n",
        "\n",
        "file_path = \"/root/.cache/kagglehub/datasets/mirichoi0218/insurance/versions/1/insurance.csv\""
      ],
      "metadata": {
        "colab": {
          "base_uri": "https://localhost:8080/"
        },
        "id": "LjfJnB6O7P1s",
        "outputId": "554de1ac-4037-42b5-a16b-4db668e10065"
      },
      "execution_count": 106,
      "outputs": [
        {
          "output_type": "stream",
          "name": "stdout",
          "text": [
            "Path to dataset files: /root/.cache/kagglehub/datasets/mirichoi0218/insurance/versions/1\n"
          ]
        }
      ]
    },
    {
      "cell_type": "markdown",
      "source": [
        "## Some Utilities"
      ],
      "metadata": {
        "id": "PeYwIS_P8GYi"
      }
    },
    {
      "cell_type": "code",
      "execution_count": 107,
      "metadata": {
        "id": "iqQTyzVg7EvG"
      },
      "outputs": [],
      "source": [
        "def get_device():\n",
        "    ''' Get device (if GPU is available, use GPU) '''\n",
        "    return 'cuda' if torch.cuda.is_available() else 'cpu'\n",
        "\n",
        "def plot_learning_curve(loss_record, title=''):\n",
        "    ''' Plot learning curve of your DNN (train & dev loss) '''\n",
        "    total_steps = len(loss_record['train'])\n",
        "    x_1 = range(total_steps)\n",
        "    x_2 = x_1[::len(loss_record['train']) // len(loss_record['dev'])]\n",
        "    figure(figsize=(6, 4))\n",
        "    plt.plot(x_1, loss_record['train'], c='tab:red', label='train')\n",
        "    plt.plot(x_2, loss_record['dev'], c='tab:cyan', label='dev')\n",
        "    plt.ylim(0.0, 5.)\n",
        "    plt.xlabel('Training steps')\n",
        "    plt.ylabel('MSE loss')\n",
        "    plt.title('Learning curve of {}'.format(title))\n",
        "    plt.legend()\n",
        "    plt.show()\n",
        "\n",
        "\n",
        "def plot_pred(dv_set, model, device, lim=35., preds=None, targets=None):\n",
        "    ''' Plot prediction of your DNN '''\n",
        "    if preds is None or targets is None:\n",
        "        model.eval()\n",
        "        preds, targets = [], []\n",
        "        for x, y in dv_set:\n",
        "            x, y = x.to(device), y.to(device)\n",
        "            with torch.no_grad():\n",
        "                pred = model(x)\n",
        "                preds.append(pred.detach().cpu())\n",
        "                targets.append(y.detach().cpu())\n",
        "        preds = torch.cat(preds, dim=0).numpy()\n",
        "        targets = torch.cat(targets, dim=0).numpy()\n",
        "\n",
        "    figure(figsize=(5, 5))\n",
        "    plt.scatter(targets, preds, c='r', alpha=0.5)\n",
        "    plt.plot([-0.2, lim], [-0.2, lim], c='b')\n",
        "    plt.xlim(-0.2, lim)\n",
        "    plt.ylim(-0.2, lim)\n",
        "    plt.xlabel('ground truth value')\n",
        "    plt.ylabel('predicted value')\n",
        "    plt.title('Ground Truth v.s. Prediction')\n",
        "    plt.show()"
      ]
    },
    {
      "cell_type": "markdown",
      "source": [
        "## PreProcessing Data"
      ],
      "metadata": {
        "id": "PkNHWeKDfszQ"
      }
    },
    {
      "cell_type": "code",
      "source": [
        "# prompt: read from .csv file, split to train, validation, and test dataset\n",
        "\n",
        "def load_and_split_data(file_path, train_ratio=0.7, val_ratio=0.15, test_ratio=0.15):\n",
        "    \"\"\"\n",
        "    Loads a CSV file, splits it into train, validation, and test sets,\n",
        "    and returns the corresponding DataFrames.\n",
        "\n",
        "    Args:\n",
        "        file_path (str): The path to the CSV file.\n",
        "        train_ratio (float): The proportion of the data to include in the training set.\n",
        "        val_ratio (float): The proportion of the data to include in the validation set.\n",
        "        test_ratio (float): The proportion of the data to include in the test set.\n",
        "\n",
        "    Returns:\n",
        "        tuple: A tuple containing the training, validation, and test DataFrames.\n",
        "    \"\"\"\n",
        "\n",
        "    df = pd.read_csv(file_path)\n",
        "\n",
        "    # Split the data into train and temp sets\n",
        "    train_df, temp_df = train_test_split(df, test_size=(1 - train_ratio), random_state=42)\n",
        "\n",
        "    # Split the temp data into validation and test sets\n",
        "    val_size = val_ratio / (val_ratio + test_ratio)\n",
        "    val_df, test_df = train_test_split(temp_df, test_size=1 - val_size, random_state=42)\n",
        "\n",
        "    return train_df, val_df, test_df"
      ],
      "metadata": {
        "id": "3l0ZFqIo8bpX"
      },
      "execution_count": 108,
      "outputs": []
    },
    {
      "cell_type": "code",
      "source": [
        "def preprocessing(df, target_only=False):\n",
        "    # Missing values per column\n",
        "    missing = df.isnull().sum().sort_values(ascending=False)\n",
        "    missing_percent = (missing / len(df)) * 100\n",
        "    missing_data = pd.DataFrame({'Missing Values': missing, 'Percentage': missing_percent})\n",
        "    print(missing_data[missing_data['Missing Values'] > 0])  # Only show columns with missing values\n",
        "\n",
        "    # Checking Data Types and Converting Columns\n",
        "    df['sex'] = pd.to_numeric(df['sex'].replace(to_replace='male', value=1), errors='coerce')\n",
        "    df['sex'] = pd.to_numeric(df['sex'].replace(to_replace='female', value=-1), errors='coerce')\n",
        "    df['smoker'] = pd.to_numeric(df['smoker'].replace(to_replace='yes', value=1), errors='coerce')\n",
        "    df['smoker'] = pd.to_numeric(df['smoker'].replace(to_replace='no', value=0), errors='coerce')\n",
        "    df['smoker'] = df['smoker'].fillna(0)\n",
        "    df['sex'] = df['sex'].fillna(0)\n",
        "    # df['region'] = df.to_numeric(df['region'], errors='coerce')\n",
        "    df = one_hot_encode_sklearn(df, ['region'], 'charges')\n",
        "\n",
        "    return df"
      ],
      "metadata": {
        "id": "h3Mrx485-Ys8"
      },
      "execution_count": 109,
      "outputs": []
    },
    {
      "cell_type": "code",
      "source": [
        "def identify_dominant_columns(df, threshold=0.95):\n",
        "    \"\"\"\n",
        "    Identifies columns where a single value appears more frequently than the specified threshold.\n",
        "\n",
        "    Parameters:\n",
        "    -----------\n",
        "    df : pandas.DataFrame\n",
        "        The input DataFrame to analyze\n",
        "    threshold : float, optional (default=0.95)\n",
        "        The threshold for considering a column dominant (between 0 and 1)\n",
        "\n",
        "    Returns:\n",
        "    --------\n",
        "    dict\n",
        "        A dictionary with column names as keys and their dominant value statistics as values\n",
        "    \"\"\"\n",
        "    dominant_cols = {}\n",
        "\n",
        "    for column in df.columns:\n",
        "        # Calculate value counts and their proportions\n",
        "        value_counts = df[column].value_counts(dropna=False)\n",
        "        max_proportion = value_counts.iloc[0] / len(df)\n",
        "\n",
        "        if max_proportion >= threshold:\n",
        "            dominant_cols[column] = {\n",
        "                'dominant_value': value_counts.index[0],\n",
        "                'proportion': max_proportion,\n",
        "                'count': value_counts.iloc[0],\n",
        "                'total_rows': len(df)\n",
        "            }\n",
        "\n",
        "    return dominant_cols"
      ],
      "metadata": {
        "id": "oLo5ooNw_LGT"
      },
      "execution_count": 110,
      "outputs": []
    },
    {
      "cell_type": "code",
      "source": [
        "def one_hot_encode_sklearn(df, features, target):\n",
        "    \"\"\"\n",
        "    Function to apply one-hot encoding using sklearn's OneHotEncoder\n",
        "    and ensure the target column is the last column.\n",
        "\n",
        "    Parameters:\n",
        "    df (pd.DataFrame): The input DataFrame.\n",
        "    features (list): A list of column names in the DataFrame to apply one-hot encoding.\n",
        "    target (str): The name of the target column to place at the last column.\n",
        "\n",
        "    Returns:\n",
        "    pd.DataFrame: A DataFrame with the specified features one-hot encoded\n",
        "                  and the target column at the last column.\n",
        "    \"\"\"\n",
        "    # Initialize OneHotEncoder\n",
        "    ohe = OneHotEncoder(sparse_output=False, drop=None)  # Use drop='first' to drop the first category if needed\n",
        "\n",
        "    # Fit and transform only the specified features\n",
        "    df_to_encode = df[features]\n",
        "\n",
        "    # Perform one-hot encoding and return it as a DataFrame\n",
        "    ohe_encoded = ohe.fit_transform(df_to_encode)\n",
        "\n",
        "    # Create a DataFrame with encoded feature names\n",
        "    encoded_columns = ohe.get_feature_names_out(features)\n",
        "    df_encoded = pd.DataFrame(ohe_encoded, columns=encoded_columns, index=df.index)\n",
        "\n",
        "    # Drop original features and concatenate the encoded features\n",
        "    df_final = pd.concat([df.drop(features, axis=1), df_encoded], axis=1)\n",
        "\n",
        "    # Ensure the target column is the last column\n",
        "    if target in df_final.columns:\n",
        "        # Move the target column to the end\n",
        "        cols = [col for col in df_final.columns if col != target]\n",
        "        cols.append(target)\n",
        "        df_final = df_final[cols]\n",
        "\n",
        "    return df_final"
      ],
      "metadata": {
        "id": "r8cuTwpBCQ_H"
      },
      "execution_count": 111,
      "outputs": []
    },
    {
      "cell_type": "code",
      "source": [
        "# Example usage:\n",
        "train_df, val_df, test_df = load_and_split_data(file_path)\n",
        "\n",
        "print(\"Training data shape:\", train_df.shape)\n",
        "print(\"Validation data shape:\", val_df.shape)\n",
        "print(\"Testing data shape:\", test_df.shape)\n",
        "\n",
        "train_df = preprocessing(train_df)\n",
        "val_df = preprocessing(val_df)\n",
        "test_df = preprocessing(test_df)"
      ],
      "metadata": {
        "colab": {
          "base_uri": "https://localhost:8080/"
        },
        "id": "m1s1hkdF-jP5",
        "outputId": "fddb8363-d11f-4a8b-cac1-97e2a586b24f"
      },
      "execution_count": 112,
      "outputs": [
        {
          "output_type": "stream",
          "name": "stdout",
          "text": [
            "Training data shape: (936, 7)\n",
            "Validation data shape: (201, 7)\n",
            "Testing data shape: (201, 7)\n",
            "Empty DataFrame\n",
            "Columns: [Missing Values, Percentage]\n",
            "Index: []\n",
            "Empty DataFrame\n",
            "Columns: [Missing Values, Percentage]\n",
            "Index: []\n",
            "Empty DataFrame\n",
            "Columns: [Missing Values, Percentage]\n",
            "Index: []\n"
          ]
        }
      ]
    },
    {
      "cell_type": "code",
      "source": [
        "# Missing values per column\n",
        "missing = val_df.isnull().sum().sort_values(ascending=False)\n",
        "missing_percent = (missing / len(train_df)) * 100\n",
        "missing_data = pd.DataFrame({'Missing Values': missing, 'Percentage': missing_percent})\n",
        "missing_data[missing_data['Missing Values'] > 0]  # Only show columns with missing values"
      ],
      "metadata": {
        "colab": {
          "base_uri": "https://localhost:8080/",
          "height": 53
        },
        "id": "hkiV86zLaw9O",
        "outputId": "983fde65-8b9a-4899-a67e-53dc65ce6a23"
      },
      "execution_count": 113,
      "outputs": [
        {
          "output_type": "execute_result",
          "data": {
            "text/plain": [
              "Empty DataFrame\n",
              "Columns: [Missing Values, Percentage]\n",
              "Index: []"
            ],
            "text/html": [
              "\n",
              "  <div id=\"df-aaba26d6-db4c-4eb9-afd6-1638c51efd55\" class=\"colab-df-container\">\n",
              "    <div>\n",
              "<style scoped>\n",
              "    .dataframe tbody tr th:only-of-type {\n",
              "        vertical-align: middle;\n",
              "    }\n",
              "\n",
              "    .dataframe tbody tr th {\n",
              "        vertical-align: top;\n",
              "    }\n",
              "\n",
              "    .dataframe thead th {\n",
              "        text-align: right;\n",
              "    }\n",
              "</style>\n",
              "<table border=\"1\" class=\"dataframe\">\n",
              "  <thead>\n",
              "    <tr style=\"text-align: right;\">\n",
              "      <th></th>\n",
              "      <th>Missing Values</th>\n",
              "      <th>Percentage</th>\n",
              "    </tr>\n",
              "  </thead>\n",
              "  <tbody>\n",
              "  </tbody>\n",
              "</table>\n",
              "</div>\n",
              "    <div class=\"colab-df-buttons\">\n",
              "\n",
              "  <div class=\"colab-df-container\">\n",
              "    <button class=\"colab-df-convert\" onclick=\"convertToInteractive('df-aaba26d6-db4c-4eb9-afd6-1638c51efd55')\"\n",
              "            title=\"Convert this dataframe to an interactive table.\"\n",
              "            style=\"display:none;\">\n",
              "\n",
              "  <svg xmlns=\"http://www.w3.org/2000/svg\" height=\"24px\" viewBox=\"0 -960 960 960\">\n",
              "    <path d=\"M120-120v-720h720v720H120Zm60-500h600v-160H180v160Zm220 220h160v-160H400v160Zm0 220h160v-160H400v160ZM180-400h160v-160H180v160Zm440 0h160v-160H620v160ZM180-180h160v-160H180v160Zm440 0h160v-160H620v160Z\"/>\n",
              "  </svg>\n",
              "    </button>\n",
              "\n",
              "  <style>\n",
              "    .colab-df-container {\n",
              "      display:flex;\n",
              "      gap: 12px;\n",
              "    }\n",
              "\n",
              "    .colab-df-convert {\n",
              "      background-color: #E8F0FE;\n",
              "      border: none;\n",
              "      border-radius: 50%;\n",
              "      cursor: pointer;\n",
              "      display: none;\n",
              "      fill: #1967D2;\n",
              "      height: 32px;\n",
              "      padding: 0 0 0 0;\n",
              "      width: 32px;\n",
              "    }\n",
              "\n",
              "    .colab-df-convert:hover {\n",
              "      background-color: #E2EBFA;\n",
              "      box-shadow: 0px 1px 2px rgba(60, 64, 67, 0.3), 0px 1px 3px 1px rgba(60, 64, 67, 0.15);\n",
              "      fill: #174EA6;\n",
              "    }\n",
              "\n",
              "    .colab-df-buttons div {\n",
              "      margin-bottom: 4px;\n",
              "    }\n",
              "\n",
              "    [theme=dark] .colab-df-convert {\n",
              "      background-color: #3B4455;\n",
              "      fill: #D2E3FC;\n",
              "    }\n",
              "\n",
              "    [theme=dark] .colab-df-convert:hover {\n",
              "      background-color: #434B5C;\n",
              "      box-shadow: 0px 1px 3px 1px rgba(0, 0, 0, 0.15);\n",
              "      filter: drop-shadow(0px 1px 2px rgba(0, 0, 0, 0.3));\n",
              "      fill: #FFFFFF;\n",
              "    }\n",
              "  </style>\n",
              "\n",
              "    <script>\n",
              "      const buttonEl =\n",
              "        document.querySelector('#df-aaba26d6-db4c-4eb9-afd6-1638c51efd55 button.colab-df-convert');\n",
              "      buttonEl.style.display =\n",
              "        google.colab.kernel.accessAllowed ? 'block' : 'none';\n",
              "\n",
              "      async function convertToInteractive(key) {\n",
              "        const element = document.querySelector('#df-aaba26d6-db4c-4eb9-afd6-1638c51efd55');\n",
              "        const dataTable =\n",
              "          await google.colab.kernel.invokeFunction('convertToInteractive',\n",
              "                                                    [key], {});\n",
              "        if (!dataTable) return;\n",
              "\n",
              "        const docLinkHtml = 'Like what you see? Visit the ' +\n",
              "          '<a target=\"_blank\" href=https://colab.research.google.com/notebooks/data_table.ipynb>data table notebook</a>'\n",
              "          + ' to learn more about interactive tables.';\n",
              "        element.innerHTML = '';\n",
              "        dataTable['output_type'] = 'display_data';\n",
              "        await google.colab.output.renderOutput(dataTable, element);\n",
              "        const docLink = document.createElement('div');\n",
              "        docLink.innerHTML = docLinkHtml;\n",
              "        element.appendChild(docLink);\n",
              "      }\n",
              "    </script>\n",
              "  </div>\n",
              "\n",
              "\n",
              "    </div>\n",
              "  </div>\n"
            ],
            "application/vnd.google.colaboratory.intrinsic+json": {
              "type": "dataframe",
              "summary": "{\n  \"name\": \"missing_data[missing_data['Missing Values'] > 0]  # Only show columns with missing values\",\n  \"rows\": 0,\n  \"fields\": [\n    {\n      \"column\": \"Missing Values\",\n      \"properties\": {\n        \"dtype\": \"number\",\n        \"std\": null,\n        \"min\": null,\n        \"max\": null,\n        \"num_unique_values\": 0,\n        \"samples\": [],\n        \"semantic_type\": \"\",\n        \"description\": \"\"\n      }\n    },\n    {\n      \"column\": \"Percentage\",\n      \"properties\": {\n        \"dtype\": \"number\",\n        \"std\": null,\n        \"min\": null,\n        \"max\": null,\n        \"num_unique_values\": 0,\n        \"samples\": [],\n        \"semantic_type\": \"\",\n        \"description\": \"\"\n      }\n    }\n  ]\n}"
            }
          },
          "metadata": {},
          "execution_count": 113
        }
      ]
    },
    {
      "cell_type": "code",
      "source": [
        "# identify_dominant_columns(train_df).keys()\n",
        "train_df.dtypes"
      ],
      "metadata": {
        "colab": {
          "base_uri": "https://localhost:8080/",
          "height": 397
        },
        "id": "KS1wahod_QUO",
        "outputId": "91f30292-49a3-405a-bd74-32ef539e7d7f"
      },
      "execution_count": 114,
      "outputs": [
        {
          "output_type": "execute_result",
          "data": {
            "text/plain": [
              "age                   int64\n",
              "sex                 float64\n",
              "bmi                 float64\n",
              "children              int64\n",
              "smoker              float64\n",
              "region_northeast    float64\n",
              "region_northwest    float64\n",
              "region_southeast    float64\n",
              "region_southwest    float64\n",
              "charges             float64\n",
              "dtype: object"
            ],
            "text/html": [
              "<div>\n",
              "<style scoped>\n",
              "    .dataframe tbody tr th:only-of-type {\n",
              "        vertical-align: middle;\n",
              "    }\n",
              "\n",
              "    .dataframe tbody tr th {\n",
              "        vertical-align: top;\n",
              "    }\n",
              "\n",
              "    .dataframe thead th {\n",
              "        text-align: right;\n",
              "    }\n",
              "</style>\n",
              "<table border=\"1\" class=\"dataframe\">\n",
              "  <thead>\n",
              "    <tr style=\"text-align: right;\">\n",
              "      <th></th>\n",
              "      <th>0</th>\n",
              "    </tr>\n",
              "  </thead>\n",
              "  <tbody>\n",
              "    <tr>\n",
              "      <th>age</th>\n",
              "      <td>int64</td>\n",
              "    </tr>\n",
              "    <tr>\n",
              "      <th>sex</th>\n",
              "      <td>float64</td>\n",
              "    </tr>\n",
              "    <tr>\n",
              "      <th>bmi</th>\n",
              "      <td>float64</td>\n",
              "    </tr>\n",
              "    <tr>\n",
              "      <th>children</th>\n",
              "      <td>int64</td>\n",
              "    </tr>\n",
              "    <tr>\n",
              "      <th>smoker</th>\n",
              "      <td>float64</td>\n",
              "    </tr>\n",
              "    <tr>\n",
              "      <th>region_northeast</th>\n",
              "      <td>float64</td>\n",
              "    </tr>\n",
              "    <tr>\n",
              "      <th>region_northwest</th>\n",
              "      <td>float64</td>\n",
              "    </tr>\n",
              "    <tr>\n",
              "      <th>region_southeast</th>\n",
              "      <td>float64</td>\n",
              "    </tr>\n",
              "    <tr>\n",
              "      <th>region_southwest</th>\n",
              "      <td>float64</td>\n",
              "    </tr>\n",
              "    <tr>\n",
              "      <th>charges</th>\n",
              "      <td>float64</td>\n",
              "    </tr>\n",
              "  </tbody>\n",
              "</table>\n",
              "</div><br><label><b>dtype:</b> object</label>"
            ]
          },
          "metadata": {},
          "execution_count": 114
        }
      ]
    },
    {
      "cell_type": "markdown",
      "source": [
        "## Dataset\n",
        "- read `.csv` file\n",
        "- extract features\n",
        "- split into train / test sets\n",
        "- normalize features"
      ],
      "metadata": {
        "id": "eHOzT9YV8aJw"
      }
    },
    {
      "cell_type": "code",
      "source": [
        "class MedicalCostDataset(Dataset):\n",
        "  def __init__(self,\n",
        "          df,\n",
        "          mode='train',\n",
        "          target_only=False):\n",
        "      self.mode = mode\n",
        "      # Convert DataFrame to numpy array\n",
        "      data = df.values.astype(float)\n",
        "\n",
        "      feats = list(range(10))\n",
        "\n",
        "      if mode == 'test':\n",
        "          # Testing data\n",
        "          data = data[:, feats]\n",
        "          self.data = torch.FloatTensor(data)\n",
        "      else:\n",
        "          # Training data (train/dev sets)\n",
        "          target = data[:, -1]  # Last column is the target\n",
        "          data = data[:, feats]\n",
        "\n",
        "          # Splitting training data into train & dev sets\n",
        "          if mode == 'train':\n",
        "              indices = [i for i in range(len(data)) if i % 10 != 0]\n",
        "          elif mode == 'dev':\n",
        "              indices = [i for i in range(len(data)) if i % 10 == 0]\n",
        "\n",
        "          # Convert data into PyTorch tensors\n",
        "          self.data = torch.FloatTensor(data[indices])\n",
        "          self.target = torch.FloatTensor(target[indices])\n",
        "\n",
        "      # Normalize features (you may remove this part to see what will happen)\n",
        "      self.data[:, 40:] = \\\n",
        "          (self.data[:, 40:] - self.data[:, 40:].mean(dim=0, keepdim=True)) \\\n",
        "          / self.data[:, 40:].std(dim=0, keepdim=True)\n",
        "\n",
        "      self.dim = self.data.shape[1]\n",
        "\n",
        "      print('Finished reading the {} set of Medical Cost ({} samples found, each dim = {})'\n",
        "            .format(mode, len(self.data), self.dim))\n",
        "\n",
        "  def __getitem__(self, index):\n",
        "      # Returns one sample at a time\n",
        "      if self.mode in ['train', 'dev']:\n",
        "          # For training\n",
        "          return self.data[index], self.target[index]\n",
        "      else:\n",
        "          # For testing (no target)\n",
        "          return self.data[index]\n",
        "\n",
        "  def __len__(self):\n",
        "      # Returns the size of the dataset\n",
        "      return len(self.data)"
      ],
      "metadata": {
        "id": "Bs-3Q9ExDWC0"
      },
      "execution_count": 115,
      "outputs": []
    },
    {
      "cell_type": "markdown",
      "source": [
        "## DataLoader"
      ],
      "metadata": {
        "id": "aIh1vQiXEcmF"
      }
    },
    {
      "cell_type": "code",
      "source": [
        "def prep_dataloader(df, mode, batch_size, n_jobs=0, target_only=False):\n",
        "    ''' Generates a dataset, then is put into a dataloader. '''\n",
        "    dataset = MedicalCostDataset(df, mode=mode, target_only=target_only)  # Construct dataset\n",
        "    dataloader = DataLoader(\n",
        "        dataset, batch_size,\n",
        "        shuffle=(mode == 'train'), drop_last=False,\n",
        "        num_workers=n_jobs, pin_memory=True)                # Construct dataloader\n",
        "    return dataloader"
      ],
      "metadata": {
        "id": "mRNGUaHXTMM3"
      },
      "execution_count": 116,
      "outputs": []
    },
    {
      "cell_type": "markdown",
      "source": [
        "## Deep Neural Network\n",
        "NeuralNet is an nn.Module designed for regression. The DNN consists of 2 fully-connected layers with ReLU activation. This module also included a function cal_loss for calculating loss."
      ],
      "metadata": {
        "id": "8AtMDq9o9qkz"
      }
    },
    {
      "cell_type": "code",
      "source": [
        "class NeuralNet(nn.Module):\n",
        "    ''' A simple fully-connected deep neural network '''\n",
        "    def __init__(self, input_dim, l1_lambda=0.0, l2_lambda=0.0):\n",
        "        super(NeuralNet, self).__init__()\n",
        "\n",
        "        # Define neural network here\n",
        "        self.net = nn.Sequential(\n",
        "            nn.Linear(input_dim, 64),\n",
        "            nn.ReLU(),\n",
        "            nn.Linear(64, 128),\n",
        "            nn.ReLU(),\n",
        "            nn.Linear(128, 1),\n",
        "        )\n",
        "\n",
        "        # Mean squared error loss\n",
        "        self.criterion = nn.MSELoss(reduction='mean')\n",
        "\n",
        "        # Regularization parameters\n",
        "        self.l1_lambda = l1_lambda\n",
        "        self.l2_lambda = l2_lambda\n",
        "\n",
        "    def forward(self, x):\n",
        "        ''' Given input of size (batch_size x input_dim), compute output of the network '''\n",
        "        # for i, layer in enumerate(self.net):\n",
        "        #   x = layer(x)\n",
        "        #   if torch.isnan(x).any():\n",
        "        #       print(f\"NaN found after layer {i}\")\n",
        "        #   if torch.isinf(x).any():\n",
        "        #       print(f\"Infinite values found after layer {i}\")\n",
        "        return self.net(x).squeeze(1)\n",
        "\n",
        "    def cal_loss(self, pred, target):\n",
        "        ''' Calculate loss with optional L1 and L2 regularization '''\n",
        "        # Calculate the standard MSE loss\n",
        "        mse_loss = self.criterion(pred, target)\n",
        "\n",
        "        # L1 and L2 regularization terms\n",
        "        l1_loss, l2_loss = 0.0, 0.0\n",
        "        for param in self.net.parameters():\n",
        "            if param.requires_grad:\n",
        "                l1_loss += torch.sum(torch.abs(param))\n",
        "                l2_loss += torch.sum(param ** 2)\n",
        "\n",
        "        # Total loss with regularization\n",
        "        total_loss = mse_loss + self.l1_lambda * l1_loss + self.l2_lambda * l2_loss\n",
        "        return total_loss"
      ],
      "metadata": {
        "id": "S-BDBbpD9usF"
      },
      "execution_count": 117,
      "outputs": []
    },
    {
      "cell_type": "markdown",
      "source": [
        "## Train/Dev/Test"
      ],
      "metadata": {
        "id": "yqPpt4px9y_7"
      }
    },
    {
      "cell_type": "markdown",
      "source": [
        "### Training"
      ],
      "metadata": {
        "id": "DJdXmRVF91mm"
      }
    },
    {
      "cell_type": "code",
      "source": [
        "\n",
        "def train(tr_set, dv_set, model, config, device):\n",
        "    ''' DNN training '''\n",
        "\n",
        "    n_epochs = config['n_epochs']  # Maximum number of epochs\n",
        "\n",
        "    # Setup optimizer\n",
        "    optimizer = getattr(torch.optim, config['optimizer'])(\n",
        "      model.parameters(), **config['optim_hparas'])\n",
        "\n",
        "    min_mse = 1000.\n",
        "    loss_record = {'train': [], 'dev': []}      # for recording training loss\n",
        "    early_stop_cnt = 0\n",
        "    epoch = 0\n",
        "    while epoch < n_epochs:\n",
        "      model.train()                        # set model to training mode\n",
        "      for x, y in tr_set:                   # iterate through the dataloader\n",
        "        # # Ensure input validity\n",
        "        # x = torch.nan_to_num(x, nan=0.0, posinf=1e10, neginf=-1e10)\n",
        "        # y = torch.nan_to_num(y, nan=0.0, posinf=1e10, neginf=-1e10)\n",
        "\n",
        "        # # Forward pass\n",
        "        # pred = model(x)\n",
        "\n",
        "        # # Check for NaN in predictions\n",
        "        # if torch.isnan(pred).any():\n",
        "        #   print(\"NaN detected in predictions!\")\n",
        "        #   continue  # Skip this batch\n",
        "\n",
        "        # # Compute loss\n",
        "        # loss = model.cal_loss(pred, y)\n",
        "        # if torch.isnan(loss).any():\n",
        "        #   print(\"NaN detected in loss!\")\n",
        "        #   continue  # Skip this batch\n",
        "        optimizer.zero_grad()                # set gradient to zero\n",
        "        x, y = x.to(device), y.to(device)        # move data to device (cpu/cuda)\n",
        "        pred = model(x)                  # forward pass (compute output)\n",
        "        mse_loss = model.cal_loss(pred, y)        # compute loss\n",
        "        mse_loss.backward()                 # compute gradient (backpropagation)\n",
        "        torch.nn.utils.clip_grad_norm_(model.parameters(), max_norm=1.0)\n",
        "\n",
        "        optimizer.step()                  # update model with optimizer\n",
        "        loss_record['train'].append(mse_loss.detach().cpu().item())\n",
        "\n",
        "      # After each epoch, test your model on the validation (development) set.\n",
        "      dev_mse = dev(dv_set, model, device)\n",
        "      if dev_mse < min_mse:\n",
        "        # Save model if your model improved\n",
        "        min_mse = dev_mse\n",
        "        print('Saving model (epoch = {:4d}, loss = {:.4f})'\n",
        "            .format(epoch + 1, min_mse))\n",
        "        torch.save(model.state_dict(), config['save_path'])  # Save model to specified path\n",
        "        early_stop_cnt = 0\n",
        "      else:\n",
        "        early_stop_cnt += 1\n",
        "\n",
        "      epoch += 1\n",
        "      loss_record['dev'].append(dev_mse)\n",
        "      if early_stop_cnt > config['early_stop']:\n",
        "        # Stop training if your model stops improving for \"config['early_stop']\" epochs.\n",
        "        break\n",
        "\n",
        "    print('Finished training after {} epochs'.format(epoch))\n",
        "    return min_mse, loss_record"
      ],
      "metadata": {
        "id": "oL4bjPGo936S"
      },
      "execution_count": 127,
      "outputs": []
    },
    {
      "cell_type": "markdown",
      "source": [
        "### Validation"
      ],
      "metadata": {
        "id": "GxobORZJ94v3"
      }
    },
    {
      "cell_type": "code",
      "source": [
        "def dev(dv_set, model, device):\n",
        "    model.eval()                                # set model to evalutation mode\n",
        "    total_loss = 0\n",
        "    for x, y in dv_set:                         # iterate through the dataloader\n",
        "        x, y = x.to(device), y.to(device)       # move data to device (cpu/cuda)\n",
        "        with torch.no_grad():                   # disable gradient calculation\n",
        "            pred = model(x)                     # forward pass (compute output)\n",
        "            mse_loss = model.cal_loss(pred, y)  # compute loss\n",
        "        total_loss += mse_loss.detach().cpu().item() * len(x)  # accumulate loss\n",
        "    total_loss = total_loss / len(dv_set.dataset)              # compute averaged loss\n",
        "\n",
        "    return total_loss"
      ],
      "metadata": {
        "id": "1q6n2fGr966u"
      },
      "execution_count": 119,
      "outputs": []
    },
    {
      "cell_type": "markdown",
      "source": [
        "### Testing"
      ],
      "metadata": {
        "id": "ZRdsS_Lc98r3"
      }
    },
    {
      "cell_type": "code",
      "source": [
        "def test(tt_set, model, device):\n",
        "    model.eval()                                # set model to evalutation mode\n",
        "    preds = []\n",
        "    for x in tt_set:                            # iterate through the dataloader\n",
        "        x = x.to(device)                        # move data to device (cpu/cuda)\n",
        "        with torch.no_grad():                   # disable gradient calculation\n",
        "            pred = model(x)                     # forward pass (compute output)\n",
        "            preds.append(pred.detach().cpu())   # collect prediction\n",
        "    preds = torch.cat(preds, dim=0).numpy()     # concatenate all predictions and convert to a numpy array\n",
        "    return preds"
      ],
      "metadata": {
        "id": "lCJWwAv19-pd"
      },
      "execution_count": 120,
      "outputs": []
    },
    {
      "cell_type": "markdown",
      "source": [
        "### Setup Hyper-parameters\n",
        "`config`contains hypter-parameters for training and the path to save your model."
      ],
      "metadata": {
        "id": "geVzmC0L9_0k"
      }
    },
    {
      "cell_type": "code",
      "source": [
        "device = get_device()                 # get the current available device ('cpu' or 'cuda')\n",
        "os.makedirs('models', exist_ok=True)  # The trained model will be saved to ./models/\n",
        "target_only = True                   # TODO: Using 40 states & 2 tested_positive features\n",
        "\n",
        "# TODO: How to tune these hyper-parameters to improve your model's performance?\n",
        "config = {\n",
        "    'n_epochs': 3000,                # maximum number of epochs\n",
        "    'batch_size': 256,               # mini-batch size for dataloader\n",
        "    'optimizer': 'SGD',              # optimization algorithm (optimizer in torch.optim)\n",
        "    'optim_hparas': {                # hyper-parameters for the optimizer (depends on which optimizer you are using)\n",
        "        'lr': 0.00001,                 # learning rate of SGD\n",
        "        'momentum': 0.4             # momentum for SGD\n",
        "    },\n",
        "    'early_stop': 400,               # early stopping epochs (the number epochs since your model's last improvement)\n",
        "    'save_path': 'models/model.pth'  # your model will be saved here\n",
        "}"
      ],
      "metadata": {
        "id": "xn9Kkh9B-JvP"
      },
      "execution_count": 121,
      "outputs": []
    },
    {
      "cell_type": "markdown",
      "source": [
        "## Load Data and Model"
      ],
      "metadata": {
        "id": "OiS0w04KUTCQ"
      }
    },
    {
      "cell_type": "code",
      "source": [
        "tr_set = prep_dataloader(train_df, 'train', config['batch_size'], target_only=target_only)\n",
        "dv_set = prep_dataloader(val_df, 'dev', config['batch_size'], target_only=target_only)\n",
        "tt_set = prep_dataloader(test_df, 'test', config['batch_size'], target_only=target_only)"
      ],
      "metadata": {
        "id": "pQPmOxlTIbh_",
        "colab": {
          "base_uri": "https://localhost:8080/"
        },
        "outputId": "6beadc1a-971a-472f-ea94-a37a7319bf7b"
      },
      "execution_count": 122,
      "outputs": [
        {
          "output_type": "stream",
          "name": "stdout",
          "text": [
            "Finished reading the train set of Medical Cost (842 samples found, each dim = 10)\n",
            "Finished reading the dev set of Medical Cost (21 samples found, each dim = 10)\n",
            "Finished reading the test set of Medical Cost (201 samples found, each dim = 10)\n"
          ]
        },
        {
          "output_type": "stream",
          "name": "stderr",
          "text": [
            "<ipython-input-115-8a83466f24a1>:34: UserWarning: std(): degrees of freedom is <= 0. Correction should be strictly less than the reduction factor (input numel divided by output numel). (Triggered internally at ../aten/src/ATen/native/ReduceOps.cpp:1823.)\n",
            "  / self.data[:, 40:].std(dim=0, keepdim=True)\n"
          ]
        }
      ]
    },
    {
      "cell_type": "code",
      "source": [
        "model = NeuralNet(tr_set.dataset.dim).to(device)  # Construct model and move to device"
      ],
      "metadata": {
        "id": "hTtJDvFbVZ8O"
      },
      "execution_count": 123,
      "outputs": []
    },
    {
      "cell_type": "markdown",
      "source": [
        "## Start Training"
      ],
      "metadata": {
        "id": "X1d_bdxcINnl"
      }
    },
    {
      "cell_type": "code",
      "source": [
        "model_loss, model_loss_record = train(tr_set, dv_set, model, config, device)"
      ],
      "metadata": {
        "colab": {
          "base_uri": "https://localhost:8080/"
        },
        "id": "VkMeTJq2IQCp",
        "outputId": "45242ab1-f66b-4616-b4db-4433d7e55bad"
      },
      "execution_count": 128,
      "outputs": [
        {
          "output_type": "stream",
          "name": "stdout",
          "text": [
            "Saving model (epoch =    1, loss = 68.0588)\n",
            "Saving model (epoch =    4, loss = 67.4875)\n",
            "Saving model (epoch =    5, loss = 64.9834)\n",
            "Saving model (epoch =   12, loss = 63.8506)\n",
            "Saving model (epoch =   55, loss = 63.6148)\n",
            "Saving model (epoch =  267, loss = 63.1297)\n",
            "Saving model (epoch =  435, loss = 62.7480)\n",
            "Saving model (epoch =  611, loss = 62.3356)\n",
            "Saving model (epoch =  627, loss = 62.2895)\n",
            "Saving model (epoch =  671, loss = 62.0662)\n",
            "Saving model (epoch =  683, loss = 61.9214)\n",
            "Saving model (epoch =  925, loss = 60.9642)\n",
            "Saving model (epoch = 1238, loss = 60.8666)\n",
            "Saving model (epoch = 1312, loss = 60.8536)\n",
            "Saving model (epoch = 1329, loss = 60.7751)\n",
            "Saving model (epoch = 1440, loss = 59.8284)\n",
            "Saving model (epoch = 1642, loss = 59.6076)\n",
            "Saving model (epoch = 1737, loss = 59.0201)\n",
            "Saving model (epoch = 1948, loss = 58.8897)\n",
            "Saving model (epoch = 1972, loss = 58.8574)\n",
            "Saving model (epoch = 2070, loss = 58.1523)\n",
            "Saving model (epoch = 2371, loss = 57.8785)\n",
            "Saving model (epoch = 2412, loss = 57.8243)\n",
            "Saving model (epoch = 2443, loss = 57.8075)\n",
            "Saving model (epoch = 2450, loss = 57.6691)\n",
            "Saving model (epoch = 2464, loss = 57.4563)\n",
            "Saving model (epoch = 2697, loss = 57.2906)\n",
            "Saving model (epoch = 2699, loss = 56.9123)\n",
            "Saving model (epoch = 2751, loss = 56.3568)\n",
            "Saving model (epoch = 2844, loss = 55.9235)\n",
            "Saving model (epoch = 2969, loss = 55.6014)\n",
            "Finished training after 3000 epochs\n"
          ]
        }
      ]
    },
    {
      "cell_type": "code",
      "source": [
        "plot_learning_curve(model_loss_record, title='deep model')"
      ],
      "metadata": {
        "colab": {
          "base_uri": "https://localhost:8080/",
          "height": 410
        },
        "id": "H9_dziH7YFgy",
        "outputId": "7090b841-a1da-433a-a100-75eb2f201a0b"
      },
      "execution_count": 129,
      "outputs": [
        {
          "output_type": "display_data",
          "data": {
            "text/plain": [
              "<Figure size 600x400 with 1 Axes>"
            ],
            "image/png": "[encoded data removed]"
          },
          "metadata": {}
        }
      ]
    },
    {
      "cell_type": "code",
      "source": [
        "del model\n",
        "model = NeuralNet(tr_set.dataset.dim).to(device)\n",
        "ckpt = torch.load(config['save_path'], map_location='cpu')  # Load your best model\n",
        "model.load_state_dict(ckpt)\n",
        "plot_pred(dv_set, model, device)  # Show prediction on the validation set"
      ],
      "metadata": {
        "colab": {
          "base_uri": "https://localhost:8080/",
          "height": 543
        },
        "id": "Mu6TdkPWYJyS",
        "outputId": "f5bf5d80-53ef-42da-ab3c-d4c9088d3e28"
      },
      "execution_count": 130,
      "outputs": [
        {
          "output_type": "stream",
          "name": "stderr",
          "text": [
            "<ipython-input-130-5bebdf951c03>:3: FutureWarning: You are using `torch.load` with `weights_only=False` (the current default value), which uses the default pickle module implicitly. It is possible to construct malicious pickle data which will execute arbitrary code during unpickling (See https://github.com/pytorch/pytorch/blob/main/SECURITY.md#untrusted-models for more details). In a future release, the default value for `weights_only` will be flipped to `True`. This limits the functions that could be executed during unpickling. Arbitrary objects will no longer be allowed to be loaded via this mode unless they are explicitly allowlisted by the user via `torch.serialization.add_safe_globals`. We recommend you start setting `weights_only=True` for any use case where you don't have full control of the loaded file. Please open an issue on GitHub for any issues related to this experimental feature.\n",
            "  ckpt = torch.load(config['save_path'], map_location='cpu')  # Load your best model\n"
          ]
        },
        {
          "output_type": "display_data",
          "data": {
            "text/plain": [
              "<Figure size 500x500 with 1 Axes>"
            ],
            "image/png": "[encoded data removed]"
          },
          "metadata": {}
        }
      ]
    }
  ]
}